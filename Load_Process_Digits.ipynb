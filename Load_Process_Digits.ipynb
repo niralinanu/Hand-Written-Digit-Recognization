{
 "cells": [
  {
   "cell_type": "markdown",
   "metadata": {},
   "source": [
    "## Load the image data\n",
    "The image is enhanced in contrast and brightness to remove background noise. \n",
    "The resulting image should show the digit on a white background:"
   ]
  },
  {
   "cell_type": "code",
   "execution_count": 76,
   "metadata": {},
   "outputs": [
    {
     "name": "stdout",
     "output_type": "stream",
     "text": [
      "(28, 28)\n"
     ]
    },
    {
     "data": {
      "image/png": "[encoded data removed]",
      "text/plain": [
       "<PIL.Image.Image image mode=RGB size=28x28 at 0xB28375B38>"
      ]
     },
     "execution_count": 76,
     "metadata": {},
     "output_type": "execute_result"
    }
   ],
   "source": [
    "import cv2\n",
    "import numpy as np\n",
    "from PIL import Image as PIL_Image\n",
    "from PIL import ImageEnhance\n",
    "from PIL import ImageOps\n",
    "from PIL import ImageDraw\n",
    "import math\n",
    "from scipy import misc\n",
    "from array import *\n",
    "import imageio\n",
    "\n",
    "#original captured image\n",
    "img_path = 'class/'\n",
    "img_name = 'digit-9c.jpg'\n",
    "img = PIL_Image.open(img_path + img_name).convert(\"L\")   \n",
    "                   \n",
    "# Center crop to remove noisy edges\n",
    "width, height = img.size   # Get dimensions\n",
    "new_width = width * 0.8\n",
    "new_height = height * 0.8\n",
    "\n",
    "left = (width - new_width)/2\n",
    "top = (height - new_height)/2\n",
    "right = (width + new_width)/2\n",
    "bottom = (height + new_height)/2\n",
    "\n",
    "img = img.crop((left, top, right, bottom))\n",
    "\n",
    "# Add border to allow for dilation\n",
    "img = ImageOps.expand(img,border=150,fill='white') \n",
    "\n",
    "# Dilate image. Must first convert to openCV\n",
    "cv_image = np.asarray(img) \n",
    "# Convert RGB to BGR \n",
    "cv_image = cv_image[ ::-1].copy() \n",
    "kernel = np.ones((50,50), np.uint8)\n",
    "#print(cv_image.size)\n",
    "img_dilation = cv2.erode(cv_image, kernel, iterations=1)\n",
    "#img_dilation = cv2.dilate(cv_image, Mat(), Point(-1, -1), 2, 1, 1)\n",
    "#cv2.imshow('img', img_dilation)\n",
    "#cv2.waitKey(0)\n",
    "img = PIL_Image.fromarray(img_dilation)\n",
    "#print(img.size)\n",
    "\n",
    "#Image enhancement                \n",
    "contr = ImageEnhance.Contrast(img)\n",
    "img = contr.enhance(3)                      # The enhancement values (contrast and brightness) \n",
    "bright = ImageEnhance.Brightness(img)       # depends on backgroud, external lights etc\n",
    "img = bright.enhance(4.0)          \n",
    "\n",
    "im2 = img.convert('RGBA')\n",
    "# rotated image\n",
    "rot = im2.rotate(-90, expand=1)\n",
    "# a white image same size as rotated image\n",
    "fff = PIL_Image.new('RGBA', rot.size, (255,)*4)\n",
    "# create a composite image using the alpha layer of rot as a mask\n",
    "out = PIL_Image.composite(rot, fff, rot)\n",
    "\n",
    "img = out.convert('RGB')\n",
    "\n",
    "#Find bounding box  \n",
    "inverted = ImageOps.invert(img)  \n",
    "box = inverted.getbbox()  \n",
    "#print(box)\n",
    "#draw = ImageDraw.Draw(img)\n",
    "#draw.rectangle(box, fill=None, outline=\"green\")\n",
    "#img.show()\n",
    "\n",
    "img_new = img.crop(box)  \n",
    "width, height = img_new.size  \n",
    "ratio = min((28./height), (28./width))  \n",
    "background = PIL_Image.new('RGB', (28,28), (255,255,255))  \n",
    "if(height == width):  \n",
    "    img_new = img_new.resize((28,28))  \n",
    "elif(height>width):  \n",
    "    img_new = img_new.resize((int(width*ratio),28))  \n",
    "    background.paste(img_new, (int((28-img_new.size[0])/2),int((28-img_new.size[1])/2)))  \n",
    "else:  \n",
    "    img_new = img_new.resize((28, int(height*ratio)))  \n",
    "    background.paste(img_new, (int((28-img_new.size[0])/2),int((28-img_new.size[1])/2)))  \n",
    "\n",
    "# Create small image    \n",
    "img_load = background\n",
    "print(img_load.size)    \n",
    "    \n",
    "#Resize the image and invert it (white on black)  \n",
    "smallimg = ImageOps.invert(img_load)  \n",
    "smallimg = smallimg.rotate(0)  \n",
    "smallimg = smallimg.transpose(PIL_Image.FLIP_LEFT_RIGHT)\n",
    "\n",
    "\n",
    "out_path = 'out/'\n",
    "imageio.imwrite(out_path + img_name, smallimg) \n",
    "smallimg"
   ]
  },
  {
   "cell_type": "code",
   "execution_count": null,
   "metadata": {},
   "outputs": [],
   "source": []
  }
 ],
 "metadata": {
  "celltoolbar": "Raw Cell Format",
  "kernelspec": {
   "display_name": "Python [conda env:my_env]",
   "language": "python",
   "name": "conda-env-my_env-py"
  },
  "language_info": {
   "codemirror_mode": {
    "name": "ipython",
    "version": 3
   },
   "file_extension": ".py",
   "mimetype": "text/x-python",
   "name": "python",
   "nbconvert_exporter": "python",
   "pygments_lexer": "ipython3",
   "version": "3.7.1"
  }
 },
 "nbformat": 4,
 "nbformat_minor": 1
}
